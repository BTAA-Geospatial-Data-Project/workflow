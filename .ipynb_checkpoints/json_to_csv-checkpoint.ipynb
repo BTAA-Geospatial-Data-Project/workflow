{
 "cells": [
  {
   "cell_type": "markdown",
   "metadata": {},
   "source": [
    "# GeoBlacklight JSON to CSV"
   ]
  },
  {
   "cell_type": "markdown",
   "metadata": {},
   "source": [
    "### This script converts multiple GeoBlacklight JSONs to a single CSV file"
   ]
  },
  {
   "cell_type": "code",
   "execution_count": 2,
   "metadata": {},
   "outputs": [],
   "source": [
    "import csv\n",
    "import json\n",
    "import os"
   ]
  },
  {
   "cell_type": "markdown",
   "metadata": {},
   "source": [
    "### change this file path to point to the folder that contains all the jsons"
   ]
  },
  {
   "cell_type": "code",
   "execution_count": 3,
   "metadata": {},
   "outputs": [],
   "source": [
    "json_path = r\"json\""
   ]
  },
  {
   "cell_type": "markdown",
   "metadata": {},
   "source": [
    "\n",
    "\n",
    "### Change the csv_out_file to be the desired name of the output csv. This will create a new blank CSV file in the same directory as this script\n"
   ]
  },
  {
   "cell_type": "code",
   "execution_count": 4,
   "metadata": {},
   "outputs": [],
   "source": [
    "csv_out_file = \"bornder.csv\""
   ]
  },
  {
   "cell_type": "code",
   "execution_count": 5,
   "metadata": {},
   "outputs": [],
   "source": [
    "first = True\n",
    "headers = []\n",
    "csv_out = open(csv_out_file, \"w\", newline='')\n",
    "f = csv.writer(csv_out)"
   ]
  },
  {
   "cell_type": "markdown",
   "metadata": {},
   "source": [
    "### The following code opens each JSON and writes the keys and values into the new CSV file"
   ]
  },
  {
   "cell_type": "code",
   "execution_count": 6,
   "metadata": {},
   "outputs": [],
   "source": [
    "for path, dir, files in os.walk(json_path):\n",
    "    for filename in files:\n",
    "# for filename in os.listdir(json_path):\n",
    "    #print(filename)\n",
    "    \n",
    "        if filename.endswith(\".json\"):\n",
    "            values = []\n",
    "            file_path = os.path.join(path, filename)\n",
    "            json_file_open = open(file_path, 'rb')\n",
    "            data = json_file_open.read().decode('utf-8', errors='ignore')\n",
    "            #print(data)\n",
    "            loaded = json.loads(data)\n",
    "            #print(loaded)\n",
    "            if first:\n",
    "                for x in loaded:\n",
    "                    headers.append(x)\n",
    "                f.writerow(headers)\n",
    "                first = False\n",
    "            for k in headers:\n",
    "                for key in loaded:\n",
    "                    multiple = []\n",
    "                    if key == k:\n",
    "                        if type(loaded[key]) == str:\n",
    "                            values.append(loaded[key])\n",
    "                        elif type(loaded[key]) == int or type(loaded[key]) == float:\n",
    "                            values.append(str(loaded[key]))\n",
    "                        elif type(loaded[key]) == list:\n",
    "                            for y in loaded[key]:\n",
    "                                multiple.append(y)\n",
    "                            values.append(\"|\".join(multiple))\n",
    "                        else:\n",
    "                            print(\"something else\")\n",
    "            f.writerow(values)\n",
    "            json_file_open.close()\n",
    "csv_out.close()"
   ]
  },
  {
   "cell_type": "markdown",
   "metadata": {},
   "source": [
    "*Script authored by Emily Ruetz @ruetz007; Updated by Karen Majewicz @karenmajewicz*"
   ]
  }
 ],
 "metadata": {
  "kernelspec": {
   "display_name": "Python 3",
   "language": "python",
   "name": "python3"
  },
  "language_info": {
   "codemirror_mode": {
    "name": "ipython",
    "version": 3
   },
   "file_extension": ".py",
   "mimetype": "text/x-python",
   "name": "python",
   "nbconvert_exporter": "python",
   "pygments_lexer": "ipython3",
   "version": "3.7.6"
  }
 },
 "nbformat": 4,
 "nbformat_minor": 2
}
