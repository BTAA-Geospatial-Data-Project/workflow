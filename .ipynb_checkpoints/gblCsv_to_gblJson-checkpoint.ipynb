{
 "cells": [
  {
   "cell_type": "markdown",
   "metadata": {},
   "source": [
    "# CSV to GeoBlacklight JSON"
   ]
  },
  {
   "cell_type": "markdown",
   "metadata": {},
   "source": [
    "### This script takes an input CSV of metadata and converts it to a GeoBlacklight JSON"
   ]
  },
  {
   "cell_type": "markdown",
   "metadata": {},
   "source": [
    "Import necessary modules"
   ]
  },
  {
   "cell_type": "code",
   "execution_count": 1,
   "metadata": {},
   "outputs": [],
   "source": [
    "import csv\n",
    "import json\n",
    "import os\n",
    "from datetime import datetime"
   ]
  },
  {
   "cell_type": "markdown",
   "metadata": {},
   "source": [
    "This is a dictionary to translate single-value Dublin Core/GBL fields into GBLJson"
   ]
  },
  {
   "cell_type": "code",
   "execution_count": 2,
   "metadata": {},
   "outputs": [],
   "source": [
    "single_dict = {\n",
    "    \"b1g_code_s\":[\"b1g_code_s\"],\n",
    "    \"dc_identifier_s\":[\"dc_identifier_s\"],\n",
    "    \"layer_slug_s\":[\"layer_slug_s\"],\n",
    "    \"dc_rights_s\":[\"dc_rights_s\"],\n",
    "    \"suppressed_b\":[\"suppressed_b\"],\n",
    "    \"dc_title_s\":[\"dc_title_s\"],\n",
    "    \"dc_description_s\":[\"dc_description_s\"],\n",
    "    \"dct_issued_s\":[\"dct_issued_s\"],\n",
    "    \"solr_year_i\":[\"solr_year_i\"],\n",
    "    \"dct_provenance_s\":[\"dct_provenance_s\"],\n",
    "    \"dc_type_s\":[\"dc_type_s\"],\n",
    "    \"dc_format_s\":[\"dc_format_s\"],\n",
    "    \"layer_geom_type_s\":[\"layer_geom_type_s\"],\n",
    "    \"solr_geom\":[\"solr_geom\"],\n",
    "    \"layer_id_s\":[\"layer_id_s\"],\n",
    "    \"dct_references_s\":[\"dct_references_s\"]\n",
    "    }"
   ]
  },
  {
   "cell_type": "markdown",
   "metadata": {},
   "source": [
    "And this is a dictionary to translate multivalue Dublin Core/GBL fields into GBLJson"
   ]
  },
  {
   "cell_type": "code",
   "execution_count": 3,
   "metadata": {},
   "outputs": [],
   "source": [
    "multiple_dict = {\n",
    "    \"dct_isPartOf_sm\":[\"dct_isPartOf_sm\"],\n",
    "    \"dc_subject_sm\":[\"dc_subject_sm\"],\n",
    "    \"dct_temporal_sm\":[\"dct_temporal_sm\"],\n",
    "    \"dct_spatial_sm\":[\"dct_spatial_sm\"],\n",
    "    \"dc_publisher_sm\":[\"dc_publisher_sm\"],\n",
    "    \"dc_creator_sm\":[\"dc_creator_sm\"],\n",
    "    \"dc_language_sm\":[\"dc_language_sm\"],\n",
    "    }"
   ]
  },
  {
   "cell_type": "markdown",
   "metadata": {},
   "source": [
    "This statement will create a folder to store the jsons if one does not already exist"
   ]
  },
  {
   "cell_type": "code",
   "execution_count": 4,
   "metadata": {},
   "outputs": [],
   "source": [
    "if not os.path.exists(\"json\"):\n",
    "    os.mkdir(\"json\")"
   ]
  },
  {
   "cell_type": "markdown",
   "metadata": {},
   "source": [
    "Open the CSV with the GBL data. Change the string inside the open statement to match your file name"
   ]
  },
  {
   "cell_type": "code",
   "execution_count": 5,
   "metadata": {},
   "outputs": [],
   "source": [
    "csvfile = open('b.csv', 'r')"
   ]
  },
  {
   "cell_type": "markdown",
   "metadata": {},
   "source": [
    "Reads the CSV into a dictionary and sets the date modified to now."
   ]
  },
  {
   "cell_type": "code",
   "execution_count": 6,
   "metadata": {},
   "outputs": [],
   "source": [
    "reader = csv.DictReader(csvfile)\n",
    "date_modified = datetime.today().strftime('%Y-%m-%d')+\"T\"+datetime.today().strftime('%X')+\"Z\""
   ]
  },
  {
   "cell_type": "markdown",
   "metadata": {},
   "source": [
    "### The script creates a Python dictionary and adds values from the CSV.\n",
    "\n",
    "1. A dictionary is created first with default values that are the same for all records\n",
    "\n",
    "\n",
    "2. Each row is examined for an identifying code. This code separates the records into collections. A folder for each code is created in the json folder so that the jsons can be sorted into their respective collection.\n",
    "\n",
    "\n",
    "3. The script then goes through the single and multiple dictionaries that were defined above and writes them into the starting dictionary.\n",
    "\n",
    "4. Finally, the unique identifier is pulled out, the output filename is named according to that unique identifier, and the output json file is written. This happens for every row in the CSV, so each record will be written to its own JSON file."
   ]
  },
  {
   "cell_type": "code",
   "execution_count": 7,
   "metadata": {},
   "outputs": [],
   "source": [
    "for row in reader:\n",
    "    code = \"\"\n",
    "    ref = []\n",
    "    \n",
    "#starting dictionary with default values\n",
    "    small_dict = {\"geoblacklight_version\":\"1.0\",\"layer_modified_dt\":date_modified}\n",
    "    for key,val in row.items():\n",
    "        #Creates a new folder for each unique Code\n",
    "        if key == \"b1g_code_s\":\n",
    "            code = val\n",
    "            if not os.path.exists(\"json/\" + val):\n",
    "                os.mkdir(\"json/\" + val)\n",
    "        \n",
    "#Looks just for the single valued fields and creates a dictionary of them\n",
    "        if key in single_dict:\n",
    "            for fieldname in single_dict[key]:\n",
    "                small_dict[fieldname] = val\n",
    "        \n",
    "#Looks for the multivalued fields (split with a pipe '|') and creates a dictionary of them.\n",
    "        if key in multiple_dict:\n",
    "            for fieldname in multiple_dict[key]:\n",
    "                small_dict[fieldname] = val.split('|')\n",
    "                \n",
    "\n",
    "    iden = row['dc_identifier_s']\n",
    "    filename = iden + \".json\"\n",
    "    \n",
    "    \n",
    "#writes to a json with the identifier as the filename \n",
    "    with open(\"json/\"+code+\"/\"+filename, 'w') as jsonfile: \n",
    "        json.dump(small_dict,jsonfile,indent=2)"
   ]
  },
  {
   "cell_type": "markdown",
   "metadata": {},
   "source": [
    "*Script authored by Emily Ruetz @ruetz007; Updated by Karen Majewicz @karenmajewicz*"
   ]
  }
 ],
 "metadata": {
  "kernelspec": {
   "display_name": "Python 3",
   "language": "python",
   "name": "python3"
  },
  "language_info": {
   "codemirror_mode": {
    "name": "ipython",
    "version": 3
   },
   "file_extension": ".py",
   "mimetype": "text/x-python",
   "name": "python",
   "nbconvert_exporter": "python",
   "pygments_lexer": "ipython3",
   "version": "3.7.6"
  }
 },
 "nbformat": 4,
 "nbformat_minor": 2
}
